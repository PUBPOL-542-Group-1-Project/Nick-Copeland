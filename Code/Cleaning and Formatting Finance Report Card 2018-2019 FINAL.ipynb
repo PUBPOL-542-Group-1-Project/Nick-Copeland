{
 "cells": [
  {
   "cell_type": "markdown",
   "metadata": {},
   "source": [
    "# Cleaning Finance Data in Python"
   ]
  },
  {
   "cell_type": "markdown",
   "metadata": {},
   "source": [
    "______________________________________________________________________________________\n",
    "First we must import pandas, pd will be synonymous with pandas from this point forward."
   ]
  },
  {
   "cell_type": "code",
   "execution_count": 28,
   "metadata": {},
   "outputs": [],
   "source": [
    "#import pandas as pd"
   ]
  },
  {
   "cell_type": "markdown",
   "metadata": {},
   "source": [
    "______________________________________________________________________________________\n",
    "Now we will identify the desired URL, and create \"location\" which we can plug into pandas.read (pd.read)"
   ]
  },
  {
   "cell_type": "code",
   "execution_count": 29,
   "metadata": {},
   "outputs": [],
   "source": [
    "location='https://github.com/PUBPOL-542-Group-1-Project/Nick-Copeland/blob/main/Data/Report%20Card%20Per%20Pupil%20Finance%20Data%202018-19%20(1)%20(2).xlsx?raw=true'\n",
    "fin=pd.read_excel(location)"
   ]
  },
  {
   "cell_type": "markdown",
   "metadata": {},
   "source": [
    "______________________________________________________________________________________\n",
    "Let's take a look and see what kind of formatting the original file has:"
   ]
  },
  {
   "cell_type": "code",
   "execution_count": 30,
   "metadata": {},
   "outputs": [
    {
     "data": {
      "text/plain": [
       "<bound method DataFrame.info of       SchoolYear OrganizationalLevel  Organizationid        County  \\\n",
       "0        2018-19            District          100010  Grays Harbor   \n",
       "1        2018-19            District          100010  Grays Harbor   \n",
       "2        2018-19            District          100010  Grays Harbor   \n",
       "3        2018-19            District          100010  Grays Harbor   \n",
       "4        2018-19            District          100010  Grays Harbor   \n",
       "...          ...                 ...             ...           ...   \n",
       "42183    2018-19               State          103300      Multiple   \n",
       "42184    2018-19               State          103300      Multiple   \n",
       "42185    2018-19               State          103300      Multiple   \n",
       "42186    2018-19               State          103300      Multiple   \n",
       "42187    2018-19               State          103300      Multiple   \n",
       "\n",
       "                      ESDName  ESDORganizationID  DistrictCode  \\\n",
       "0      Capital Region ESD 113           100004.0         14005   \n",
       "1      Capital Region ESD 113           100004.0         14005   \n",
       "2      Capital Region ESD 113           100004.0         14005   \n",
       "3      Capital Region ESD 113           100004.0         14005   \n",
       "4      Capital Region ESD 113           100004.0         14005   \n",
       "...                       ...                ...           ...   \n",
       "42183             State Total                0.0             0   \n",
       "42184             State Total                0.0             0   \n",
       "42185             State Total                0.0             0   \n",
       "42186             State Total                0.0             0   \n",
       "42187             State Total                0.0             0   \n",
       "\n",
       "                   DistrictName  DistrictORganizationID  SchoolCode  \\\n",
       "0      Aberdeen School District                  100010           0   \n",
       "1      Aberdeen School District                  100010           0   \n",
       "2      Aberdeen School District                  100010           0   \n",
       "3      Aberdeen School District                  100010           0   \n",
       "4      Aberdeen School District                  100010           0   \n",
       "...                         ...                     ...         ...   \n",
       "42183               State Total                       0           0   \n",
       "42184               State Total                       0           0   \n",
       "42185               State Total                       0           0   \n",
       "42186               State Total                       0           0   \n",
       "42187               State Total                       0           0   \n",
       "\n",
       "           SchoolName  SchoolOrganizationId PersonnelFlag       Source  \\\n",
       "0      District Total                     0  NonPersonnel      Federal   \n",
       "1      District Total                     0  NonPersonnel      Federal   \n",
       "2      District Total                     0  NonPersonnel      Federal   \n",
       "3      District Total                     0  NonPersonnel      Federal   \n",
       "4      District Total                     0  NonPersonnel      Federal   \n",
       "...               ...                   ...           ...          ...   \n",
       "42183     State Total                     0  NonPersonnel  State/Local   \n",
       "42184     State Total                     0  NonPersonnel  State/Local   \n",
       "42185     State Total                     0  NonPersonnel  State/Local   \n",
       "42186     State Total                     0     Personnel      Federal   \n",
       "42187     State Total                     0     Personnel  State/Local   \n",
       "\n",
       "       EnrollmentTotal                    Activity   Expenditure      DataAsOf  \n",
       "0              3479.42              Administration  0.000000e+00  2018-19Final  \n",
       "1              3479.42                 Instruction  2.412989e+05  2018-19Final  \n",
       "2              3479.42       Instructional Support  7.324499e+04  2018-19Final  \n",
       "3              3479.42        School Food Services  1.021709e+06  2018-19Final  \n",
       "4              3479.42  Maintenance and Operations  0.000000e+00  2018-19Final  \n",
       "...                ...                         ...           ...           ...  \n",
       "42183       1119010.74  Maintenance and Operations  6.064682e+08  2018-19Final  \n",
       "42184       1119010.74               Other Service  1.157654e+08  2018-19Final  \n",
       "42185       1119010.74              Public Actives  1.496495e+07  2018-19Final  \n",
       "42186       1119010.74                   Personnel  4.665821e+08  2018-19Final  \n",
       "42187       1119010.74                   Personnel  1.281321e+10  2018-19Final  \n",
       "\n",
       "[42188 rows x 18 columns]>"
      ]
     },
     "execution_count": 30,
     "metadata": {},
     "output_type": "execute_result"
    }
   ],
   "source": [
    "fin.info"
   ]
  },
  {
   "cell_type": "markdown",
   "metadata": {},
   "source": [
    "______________________________________________________________________________________\n",
    "18 columns? At least half of these variables are unimportant.  Let's use info with a () to view the data types for each column:"
   ]
  },
  {
   "cell_type": "code",
   "execution_count": 31,
   "metadata": {},
   "outputs": [
    {
     "name": "stdout",
     "output_type": "stream",
     "text": [
      "<class 'pandas.core.frame.DataFrame'>\n",
      "RangeIndex: 42188 entries, 0 to 42187\n",
      "Data columns (total 18 columns):\n",
      " #   Column                  Non-Null Count  Dtype  \n",
      "---  ------                  --------------  -----  \n",
      " 0   SchoolYear              42188 non-null  object \n",
      " 1   OrganizationalLevel     42188 non-null  object \n",
      " 2   Organizationid          42188 non-null  int64  \n",
      " 3   County                  42188 non-null  object \n",
      " 4   ESDName                 41985 non-null  object \n",
      " 5   ESDORganizationID       41985 non-null  float64\n",
      " 6   DistrictCode            42188 non-null  int64  \n",
      " 7   DistrictName            42188 non-null  object \n",
      " 8   DistrictORganizationID  42188 non-null  int64  \n",
      " 9   SchoolCode              42188 non-null  int64  \n",
      " 10  SchoolName              42188 non-null  object \n",
      " 11  SchoolOrganizationId    42188 non-null  int64  \n",
      " 12  PersonnelFlag           42188 non-null  object \n",
      " 13  Source                  42188 non-null  object \n",
      " 14  EnrollmentTotal         42188 non-null  float64\n",
      " 15  Activity                42188 non-null  object \n",
      " 16  Expenditure             42188 non-null  float64\n",
      " 17  DataAsOf                42188 non-null  object \n",
      "dtypes: float64(3), int64(5), object(10)\n",
      "memory usage: 5.8+ MB\n"
     ]
    }
   ],
   "source": [
    "fin.info()"
   ]
  },
  {
   "cell_type": "markdown",
   "metadata": {},
   "source": [
    "______________________________________________________________________________________\n",
    "Before we begin making our changes and removing columns, let's create a copy so we can still access our original dataset if necessary. Using \".copy()\" attached to our original filename, equal \"=\" to the new name, will serve this purpose.  "
   ]
  },
  {
   "cell_type": "code",
   "execution_count": 32,
   "metadata": {},
   "outputs": [],
   "source": [
    "fin1=fin.copy()"
   ]
  },
  {
   "cell_type": "markdown",
   "metadata": {},
   "source": [
    "______________________________________________________________________________________\n",
    "Now we'll drop columns using the \".drop\" command, and \".iloc\" to identify which columns we would like to drop.  Keep in mind the formatting for \".iloc\", [Rows, [columns separated by a colon to indicate a range, or commas to indicate discrete values]]. Also, axis=1 signifies that we are referring to the columns (axis=0 would be rows), and inplace means we are putting something \"inplace\" of what we had before.  In this case, we're replacing the original columns 1 and 17 with nothing \"drop\".  "
   ]
  },
  {
   "cell_type": "code",
   "execution_count": 33,
   "metadata": {},
   "outputs": [],
   "source": [
    "fin1.drop(fin1.iloc[:,[0,17]], axis=1, inplace=True)"
   ]
  },
  {
   "cell_type": "markdown",
   "metadata": {},
   "source": [
    "______________________________________________________________________________________\n",
    "Let's see if it worked."
   ]
  },
  {
   "cell_type": "code",
   "execution_count": 34,
   "metadata": {},
   "outputs": [
    {
     "name": "stdout",
     "output_type": "stream",
     "text": [
      "<class 'pandas.core.frame.DataFrame'>\n",
      "RangeIndex: 42188 entries, 0 to 42187\n",
      "Data columns (total 16 columns):\n",
      " #   Column                  Non-Null Count  Dtype  \n",
      "---  ------                  --------------  -----  \n",
      " 0   OrganizationalLevel     42188 non-null  object \n",
      " 1   Organizationid          42188 non-null  int64  \n",
      " 2   County                  42188 non-null  object \n",
      " 3   ESDName                 41985 non-null  object \n",
      " 4   ESDORganizationID       41985 non-null  float64\n",
      " 5   DistrictCode            42188 non-null  int64  \n",
      " 6   DistrictName            42188 non-null  object \n",
      " 7   DistrictORganizationID  42188 non-null  int64  \n",
      " 8   SchoolCode              42188 non-null  int64  \n",
      " 9   SchoolName              42188 non-null  object \n",
      " 10  SchoolOrganizationId    42188 non-null  int64  \n",
      " 11  PersonnelFlag           42188 non-null  object \n",
      " 12  Source                  42188 non-null  object \n",
      " 13  EnrollmentTotal         42188 non-null  float64\n",
      " 14  Activity                42188 non-null  object \n",
      " 15  Expenditure             42188 non-null  float64\n",
      "dtypes: float64(3), int64(5), object(8)\n",
      "memory usage: 5.2+ MB\n"
     ]
    }
   ],
   "source": [
    "fin1.info()"
   ]
  },
  {
   "cell_type": "markdown",
   "metadata": {},
   "source": [
    "______________________________________________________________________________________\n",
    "We still have some unimportant columns in our dataframe.  Let's continue dropping these using the same process we used before:"
   ]
  },
  {
   "cell_type": "code",
   "execution_count": 36,
   "metadata": {},
   "outputs": [],
   "source": [
    "fin1.drop(fin1.iloc[:,[0,1,3,4,7,10,11]], axis=1, inplace=True) #drop columns 0, 1, 3, 4, 7, 10, 11,  \"orglevel, orgID, ESDname, ESDorganizationID, DistrictORganizationID, schoolorganizationID, and PersonnelFlag\""
   ]
  },
  {
   "cell_type": "markdown",
   "metadata": {},
   "source": [
    "______________________________________________________________________________________\n",
    "Let's take a look at our data without the excess columns:"
   ]
  },
  {
   "cell_type": "code",
   "execution_count": 37,
   "metadata": {},
   "outputs": [
    {
     "name": "stdout",
     "output_type": "stream",
     "text": [
      "<class 'pandas.core.frame.DataFrame'>\n",
      "RangeIndex: 42188 entries, 0 to 42187\n",
      "Data columns (total 9 columns):\n",
      " #   Column           Non-Null Count  Dtype  \n",
      "---  ------           --------------  -----  \n",
      " 0   County           42188 non-null  object \n",
      " 1   DistrictCode     42188 non-null  int64  \n",
      " 2   DistrictName     42188 non-null  object \n",
      " 3   SchoolCode       42188 non-null  int64  \n",
      " 4   SchoolName       42188 non-null  object \n",
      " 5   Source           42188 non-null  object \n",
      " 6   EnrollmentTotal  42188 non-null  float64\n",
      " 7   Activity         42188 non-null  object \n",
      " 8   Expenditure      42188 non-null  float64\n",
      "dtypes: float64(2), int64(2), object(5)\n",
      "memory usage: 2.9+ MB\n"
     ]
    }
   ],
   "source": [
    "fin1.info()"
   ]
  },
  {
   "cell_type": "markdown",
   "metadata": {},
   "source": [
    "______________________________________________________________________________________\n",
    "Looks much better now.  We have County, enough information regarding district, school code/name, source of funding, enrollment total for each school, and the activity/amount of money spent on the activity.  The rest was excessive. We're almost done! But I seem to recall some excess data points towards the end of our data set..."
   ]
  },
  {
   "cell_type": "code",
   "execution_count": 40,
   "metadata": {},
   "outputs": [
    {
     "data": {
      "text/html": [
       "<div>\n",
       "<style scoped>\n",
       "    .dataframe tbody tr th:only-of-type {\n",
       "        vertical-align: middle;\n",
       "    }\n",
       "\n",
       "    .dataframe tbody tr th {\n",
       "        vertical-align: top;\n",
       "    }\n",
       "\n",
       "    .dataframe thead th {\n",
       "        text-align: right;\n",
       "    }\n",
       "</style>\n",
       "<table border=\"1\" class=\"dataframe\">\n",
       "  <thead>\n",
       "    <tr style=\"text-align: right;\">\n",
       "      <th></th>\n",
       "      <th>County</th>\n",
       "      <th>DistrictCode</th>\n",
       "      <th>DistrictName</th>\n",
       "      <th>SchoolCode</th>\n",
       "      <th>SchoolName</th>\n",
       "      <th>Source</th>\n",
       "      <th>EnrollmentTotal</th>\n",
       "      <th>Activity</th>\n",
       "      <th>Expenditure</th>\n",
       "    </tr>\n",
       "  </thead>\n",
       "  <tbody>\n",
       "    <tr>\n",
       "      <th>42183</th>\n",
       "      <td>Multiple</td>\n",
       "      <td>0</td>\n",
       "      <td>State Total</td>\n",
       "      <td>0</td>\n",
       "      <td>State Total</td>\n",
       "      <td>State/Local</td>\n",
       "      <td>1119010.74</td>\n",
       "      <td>Maintenance and Operations</td>\n",
       "      <td>6.064682e+08</td>\n",
       "    </tr>\n",
       "    <tr>\n",
       "      <th>42184</th>\n",
       "      <td>Multiple</td>\n",
       "      <td>0</td>\n",
       "      <td>State Total</td>\n",
       "      <td>0</td>\n",
       "      <td>State Total</td>\n",
       "      <td>State/Local</td>\n",
       "      <td>1119010.74</td>\n",
       "      <td>Other Service</td>\n",
       "      <td>1.157654e+08</td>\n",
       "    </tr>\n",
       "    <tr>\n",
       "      <th>42185</th>\n",
       "      <td>Multiple</td>\n",
       "      <td>0</td>\n",
       "      <td>State Total</td>\n",
       "      <td>0</td>\n",
       "      <td>State Total</td>\n",
       "      <td>State/Local</td>\n",
       "      <td>1119010.74</td>\n",
       "      <td>Public Actives</td>\n",
       "      <td>1.496495e+07</td>\n",
       "    </tr>\n",
       "    <tr>\n",
       "      <th>42186</th>\n",
       "      <td>Multiple</td>\n",
       "      <td>0</td>\n",
       "      <td>State Total</td>\n",
       "      <td>0</td>\n",
       "      <td>State Total</td>\n",
       "      <td>Federal</td>\n",
       "      <td>1119010.74</td>\n",
       "      <td>Personnel</td>\n",
       "      <td>4.665821e+08</td>\n",
       "    </tr>\n",
       "    <tr>\n",
       "      <th>42187</th>\n",
       "      <td>Multiple</td>\n",
       "      <td>0</td>\n",
       "      <td>State Total</td>\n",
       "      <td>0</td>\n",
       "      <td>State Total</td>\n",
       "      <td>State/Local</td>\n",
       "      <td>1119010.74</td>\n",
       "      <td>Personnel</td>\n",
       "      <td>1.281321e+10</td>\n",
       "    </tr>\n",
       "  </tbody>\n",
       "</table>\n",
       "</div>"
      ],
      "text/plain": [
       "         County  DistrictCode DistrictName  SchoolCode   SchoolName  \\\n",
       "42183  Multiple             0  State Total           0  State Total   \n",
       "42184  Multiple             0  State Total           0  State Total   \n",
       "42185  Multiple             0  State Total           0  State Total   \n",
       "42186  Multiple             0  State Total           0  State Total   \n",
       "42187  Multiple             0  State Total           0  State Total   \n",
       "\n",
       "            Source  EnrollmentTotal                    Activity   Expenditure  \n",
       "42183  State/Local       1119010.74  Maintenance and Operations  6.064682e+08  \n",
       "42184  State/Local       1119010.74               Other Service  1.157654e+08  \n",
       "42185  State/Local       1119010.74              Public Actives  1.496495e+07  \n",
       "42186      Federal       1119010.74                   Personnel  4.665821e+08  \n",
       "42187  State/Local       1119010.74                   Personnel  1.281321e+10  "
      ]
     },
     "execution_count": 40,
     "metadata": {},
     "output_type": "execute_result"
    }
   ],
   "source": [
    "fin1.tail()"
   ]
  },
  {
   "cell_type": "markdown",
   "metadata": {},
   "source": [
    "______________________________________________________________________________________\n",
    "I knew it! We don't want any of these aggregate entries in the final rows of our data.  What do they all have in common? Well they all share the \"Multiple\" designation in their county column. Let's create a new dataframe from the old one, but in this new one, we'll remove any row that has a string \"str\" which contains \"str.contains\" the word \"Multiple\".  We do this by inputting the tilde in front of fin1, meaning we want everything from fin1 BUT the rows with a string of text that says \"Multiple\" in the county column:"
   ]
  },
  {
   "cell_type": "code",
   "execution_count": 38,
   "metadata": {},
   "outputs": [],
   "source": [
    "fin2=fin1[~fin1.County.str.contains(\"Multiple\")]"
   ]
  },
  {
   "cell_type": "markdown",
   "metadata": {},
   "source": [
    "______________________________________________________________________________________\n",
    "Let's see if this worked by checking out the final entries in our new \"fin2\" dataframe (this is where we had the unwanted aggregated entries \"multiple\")"
   ]
  },
  {
   "cell_type": "code",
   "execution_count": 39,
   "metadata": {},
   "outputs": [
    {
     "data": {
      "text/html": [
       "<div>\n",
       "<style scoped>\n",
       "    .dataframe tbody tr th:only-of-type {\n",
       "        vertical-align: middle;\n",
       "    }\n",
       "\n",
       "    .dataframe tbody tr th {\n",
       "        vertical-align: top;\n",
       "    }\n",
       "\n",
       "    .dataframe thead th {\n",
       "        text-align: right;\n",
       "    }\n",
       "</style>\n",
       "<table border=\"1\" class=\"dataframe\">\n",
       "  <thead>\n",
       "    <tr style=\"text-align: right;\">\n",
       "      <th></th>\n",
       "      <th>County</th>\n",
       "      <th>DistrictCode</th>\n",
       "      <th>DistrictName</th>\n",
       "      <th>SchoolCode</th>\n",
       "      <th>SchoolName</th>\n",
       "      <th>Source</th>\n",
       "      <th>EnrollmentTotal</th>\n",
       "      <th>Activity</th>\n",
       "      <th>Expenditure</th>\n",
       "    </tr>\n",
       "  </thead>\n",
       "  <tbody>\n",
       "    <tr>\n",
       "      <th>42167</th>\n",
       "      <td>Skagit</td>\n",
       "      <td>29103</td>\n",
       "      <td>Anacortes School District</td>\n",
       "      <td>5588</td>\n",
       "      <td>Open Doors</td>\n",
       "      <td>State/Local</td>\n",
       "      <td>10.9</td>\n",
       "      <td>School Food Services</td>\n",
       "      <td>0.000000</td>\n",
       "    </tr>\n",
       "    <tr>\n",
       "      <th>42168</th>\n",
       "      <td>Skagit</td>\n",
       "      <td>29103</td>\n",
       "      <td>Anacortes School District</td>\n",
       "      <td>5588</td>\n",
       "      <td>Open Doors</td>\n",
       "      <td>State/Local</td>\n",
       "      <td>10.9</td>\n",
       "      <td>Pupil Transportation</td>\n",
       "      <td>408.401192</td>\n",
       "    </tr>\n",
       "    <tr>\n",
       "      <th>42169</th>\n",
       "      <td>Skagit</td>\n",
       "      <td>29103</td>\n",
       "      <td>Anacortes School District</td>\n",
       "      <td>5588</td>\n",
       "      <td>Open Doors</td>\n",
       "      <td>State/Local</td>\n",
       "      <td>10.9</td>\n",
       "      <td>Maintenance and Operations</td>\n",
       "      <td>4897.681124</td>\n",
       "    </tr>\n",
       "    <tr>\n",
       "      <th>42170</th>\n",
       "      <td>Skagit</td>\n",
       "      <td>29103</td>\n",
       "      <td>Anacortes School District</td>\n",
       "      <td>5588</td>\n",
       "      <td>Open Doors</td>\n",
       "      <td>State/Local</td>\n",
       "      <td>10.9</td>\n",
       "      <td>Other Service</td>\n",
       "      <td>625.167693</td>\n",
       "    </tr>\n",
       "    <tr>\n",
       "      <th>42171</th>\n",
       "      <td>Skagit</td>\n",
       "      <td>29103</td>\n",
       "      <td>Anacortes School District</td>\n",
       "      <td>5588</td>\n",
       "      <td>Open Doors</td>\n",
       "      <td>State/Local</td>\n",
       "      <td>10.9</td>\n",
       "      <td>Public Actives</td>\n",
       "      <td>11.587718</td>\n",
       "    </tr>\n",
       "  </tbody>\n",
       "</table>\n",
       "</div>"
      ],
      "text/plain": [
       "       County  DistrictCode               DistrictName  SchoolCode  \\\n",
       "42167  Skagit         29103  Anacortes School District        5588   \n",
       "42168  Skagit         29103  Anacortes School District        5588   \n",
       "42169  Skagit         29103  Anacortes School District        5588   \n",
       "42170  Skagit         29103  Anacortes School District        5588   \n",
       "42171  Skagit         29103  Anacortes School District        5588   \n",
       "\n",
       "       SchoolName       Source  EnrollmentTotal                    Activity  \\\n",
       "42167  Open Doors  State/Local             10.9        School Food Services   \n",
       "42168  Open Doors  State/Local             10.9        Pupil Transportation   \n",
       "42169  Open Doors  State/Local             10.9  Maintenance and Operations   \n",
       "42170  Open Doors  State/Local             10.9               Other Service   \n",
       "42171  Open Doors  State/Local             10.9              Public Actives   \n",
       "\n",
       "       Expenditure  \n",
       "42167     0.000000  \n",
       "42168   408.401192  \n",
       "42169  4897.681124  \n",
       "42170   625.167693  \n",
       "42171    11.587718  "
      ]
     },
     "execution_count": 39,
     "metadata": {},
     "output_type": "execute_result"
    }
   ],
   "source": [
    "fin2.tail()"
   ]
  },
  {
   "cell_type": "markdown",
   "metadata": {},
   "source": [
    "______________________________________________________________________________________\n",
    "SUCCESS! Let's check out all the datatypes and confirm that we're done using our fin2.info()"
   ]
  },
  {
   "cell_type": "code",
   "execution_count": 41,
   "metadata": {},
   "outputs": [
    {
     "name": "stdout",
     "output_type": "stream",
     "text": [
      "<class 'pandas.core.frame.DataFrame'>\n",
      "Int64Index: 42172 entries, 0 to 42171\n",
      "Data columns (total 9 columns):\n",
      " #   Column           Non-Null Count  Dtype  \n",
      "---  ------           --------------  -----  \n",
      " 0   County           42172 non-null  object \n",
      " 1   DistrictCode     42172 non-null  int64  \n",
      " 2   DistrictName     42172 non-null  object \n",
      " 3   SchoolCode       42172 non-null  int64  \n",
      " 4   SchoolName       42172 non-null  object \n",
      " 5   Source           42172 non-null  object \n",
      " 6   EnrollmentTotal  42172 non-null  float64\n",
      " 7   Activity         42172 non-null  object \n",
      " 8   Expenditure      42172 non-null  float64\n",
      "dtypes: float64(2), int64(2), object(5)\n",
      "memory usage: 3.2+ MB\n"
     ]
    }
   ],
   "source": [
    "fin2.info()"
   ]
  },
  {
   "cell_type": "markdown",
   "metadata": {},
   "source": [
    "______________________________________________________________________________________\n",
    "Looking good...Let's check with our groupmates to make sure we have all the necessary columns for merging."
   ]
  },
  {
   "cell_type": "markdown",
   "metadata": {},
   "source": [
    "So we checked with our groupmates and they would like us to make the following changes: \n",
    "1. round all our expenditures to a single decimal point\n",
    "2. remove every column BESIDES school code and expenditure\n",
    "3. sum the expenditures by school code, so we know how much each school spent in total for 2018-2019\n",
    "4. make expenditure int64 instead of float64, so we can have whole numbers for expenditures and cleaner data in general.\n",
    "\n",
    "Steps 1-4 are as follows:"
   ]
  },
  {
   "cell_type": "markdown",
   "metadata": {},
   "source": [
    "______________________________________________________________________________________\n",
    "STEP 1:  round all our expenditure values"
   ]
  },
  {
   "cell_type": "code",
   "execution_count": 43,
   "metadata": {},
   "outputs": [
    {
     "name": "stderr",
     "output_type": "stream",
     "text": [
      "C:\\Users\\nrcop\\anaconda3\\lib\\site-packages\\pandas\\core\\generic.py:5168: SettingWithCopyWarning: \n",
      "A value is trying to be set on a copy of a slice from a DataFrame.\n",
      "Try using .loc[row_indexer,col_indexer] = value instead\n",
      "\n",
      "See the caveats in the documentation: https://pandas.pydata.org/pandas-docs/stable/user_guide/indexing.html#returning-a-view-versus-a-copy\n",
      "  self[name] = value\n"
     ]
    }
   ],
   "source": [
    "fin2.Expenditure=fin2.Expenditure.round(1)"
   ]
  },
  {
   "cell_type": "markdown",
   "metadata": {},
   "source": [
    "______________________________________________________________________________________\n",
    "Step 1 continued: check to see that it worked"
   ]
  },
  {
   "cell_type": "code",
   "execution_count": 45,
   "metadata": {},
   "outputs": [
    {
     "data": {
      "text/html": [
       "<div>\n",
       "<style scoped>\n",
       "    .dataframe tbody tr th:only-of-type {\n",
       "        vertical-align: middle;\n",
       "    }\n",
       "\n",
       "    .dataframe tbody tr th {\n",
       "        vertical-align: top;\n",
       "    }\n",
       "\n",
       "    .dataframe thead th {\n",
       "        text-align: right;\n",
       "    }\n",
       "</style>\n",
       "<table border=\"1\" class=\"dataframe\">\n",
       "  <thead>\n",
       "    <tr style=\"text-align: right;\">\n",
       "      <th></th>\n",
       "      <th>County</th>\n",
       "      <th>DistrictCode</th>\n",
       "      <th>DistrictName</th>\n",
       "      <th>SchoolCode</th>\n",
       "      <th>SchoolName</th>\n",
       "      <th>Source</th>\n",
       "      <th>EnrollmentTotal</th>\n",
       "      <th>Activity</th>\n",
       "      <th>Expenditure</th>\n",
       "    </tr>\n",
       "  </thead>\n",
       "  <tbody>\n",
       "    <tr>\n",
       "      <th>0</th>\n",
       "      <td>Grays Harbor</td>\n",
       "      <td>14005</td>\n",
       "      <td>Aberdeen School District</td>\n",
       "      <td>0</td>\n",
       "      <td>District Total</td>\n",
       "      <td>Federal</td>\n",
       "      <td>3479.42</td>\n",
       "      <td>Administration</td>\n",
       "      <td>0.0</td>\n",
       "    </tr>\n",
       "    <tr>\n",
       "      <th>1</th>\n",
       "      <td>Grays Harbor</td>\n",
       "      <td>14005</td>\n",
       "      <td>Aberdeen School District</td>\n",
       "      <td>0</td>\n",
       "      <td>District Total</td>\n",
       "      <td>Federal</td>\n",
       "      <td>3479.42</td>\n",
       "      <td>Instruction</td>\n",
       "      <td>241298.9</td>\n",
       "    </tr>\n",
       "    <tr>\n",
       "      <th>2</th>\n",
       "      <td>Grays Harbor</td>\n",
       "      <td>14005</td>\n",
       "      <td>Aberdeen School District</td>\n",
       "      <td>0</td>\n",
       "      <td>District Total</td>\n",
       "      <td>Federal</td>\n",
       "      <td>3479.42</td>\n",
       "      <td>Instructional Support</td>\n",
       "      <td>73245.0</td>\n",
       "    </tr>\n",
       "    <tr>\n",
       "      <th>3</th>\n",
       "      <td>Grays Harbor</td>\n",
       "      <td>14005</td>\n",
       "      <td>Aberdeen School District</td>\n",
       "      <td>0</td>\n",
       "      <td>District Total</td>\n",
       "      <td>Federal</td>\n",
       "      <td>3479.42</td>\n",
       "      <td>School Food Services</td>\n",
       "      <td>1021709.2</td>\n",
       "    </tr>\n",
       "    <tr>\n",
       "      <th>4</th>\n",
       "      <td>Grays Harbor</td>\n",
       "      <td>14005</td>\n",
       "      <td>Aberdeen School District</td>\n",
       "      <td>0</td>\n",
       "      <td>District Total</td>\n",
       "      <td>Federal</td>\n",
       "      <td>3479.42</td>\n",
       "      <td>Maintenance and Operations</td>\n",
       "      <td>0.0</td>\n",
       "    </tr>\n",
       "    <tr>\n",
       "      <th>...</th>\n",
       "      <td>...</td>\n",
       "      <td>...</td>\n",
       "      <td>...</td>\n",
       "      <td>...</td>\n",
       "      <td>...</td>\n",
       "      <td>...</td>\n",
       "      <td>...</td>\n",
       "      <td>...</td>\n",
       "      <td>...</td>\n",
       "    </tr>\n",
       "    <tr>\n",
       "      <th>42167</th>\n",
       "      <td>Skagit</td>\n",
       "      <td>29103</td>\n",
       "      <td>Anacortes School District</td>\n",
       "      <td>5588</td>\n",
       "      <td>Open Doors</td>\n",
       "      <td>State/Local</td>\n",
       "      <td>10.90</td>\n",
       "      <td>School Food Services</td>\n",
       "      <td>0.0</td>\n",
       "    </tr>\n",
       "    <tr>\n",
       "      <th>42168</th>\n",
       "      <td>Skagit</td>\n",
       "      <td>29103</td>\n",
       "      <td>Anacortes School District</td>\n",
       "      <td>5588</td>\n",
       "      <td>Open Doors</td>\n",
       "      <td>State/Local</td>\n",
       "      <td>10.90</td>\n",
       "      <td>Pupil Transportation</td>\n",
       "      <td>408.4</td>\n",
       "    </tr>\n",
       "    <tr>\n",
       "      <th>42169</th>\n",
       "      <td>Skagit</td>\n",
       "      <td>29103</td>\n",
       "      <td>Anacortes School District</td>\n",
       "      <td>5588</td>\n",
       "      <td>Open Doors</td>\n",
       "      <td>State/Local</td>\n",
       "      <td>10.90</td>\n",
       "      <td>Maintenance and Operations</td>\n",
       "      <td>4897.7</td>\n",
       "    </tr>\n",
       "    <tr>\n",
       "      <th>42170</th>\n",
       "      <td>Skagit</td>\n",
       "      <td>29103</td>\n",
       "      <td>Anacortes School District</td>\n",
       "      <td>5588</td>\n",
       "      <td>Open Doors</td>\n",
       "      <td>State/Local</td>\n",
       "      <td>10.90</td>\n",
       "      <td>Other Service</td>\n",
       "      <td>625.2</td>\n",
       "    </tr>\n",
       "    <tr>\n",
       "      <th>42171</th>\n",
       "      <td>Skagit</td>\n",
       "      <td>29103</td>\n",
       "      <td>Anacortes School District</td>\n",
       "      <td>5588</td>\n",
       "      <td>Open Doors</td>\n",
       "      <td>State/Local</td>\n",
       "      <td>10.90</td>\n",
       "      <td>Public Actives</td>\n",
       "      <td>11.6</td>\n",
       "    </tr>\n",
       "  </tbody>\n",
       "</table>\n",
       "<p>42172 rows × 9 columns</p>\n",
       "</div>"
      ],
      "text/plain": [
       "             County  DistrictCode               DistrictName  SchoolCode  \\\n",
       "0      Grays Harbor         14005   Aberdeen School District           0   \n",
       "1      Grays Harbor         14005   Aberdeen School District           0   \n",
       "2      Grays Harbor         14005   Aberdeen School District           0   \n",
       "3      Grays Harbor         14005   Aberdeen School District           0   \n",
       "4      Grays Harbor         14005   Aberdeen School District           0   \n",
       "...             ...           ...                        ...         ...   \n",
       "42167        Skagit         29103  Anacortes School District        5588   \n",
       "42168        Skagit         29103  Anacortes School District        5588   \n",
       "42169        Skagit         29103  Anacortes School District        5588   \n",
       "42170        Skagit         29103  Anacortes School District        5588   \n",
       "42171        Skagit         29103  Anacortes School District        5588   \n",
       "\n",
       "           SchoolName       Source  EnrollmentTotal  \\\n",
       "0      District Total      Federal          3479.42   \n",
       "1      District Total      Federal          3479.42   \n",
       "2      District Total      Federal          3479.42   \n",
       "3      District Total      Federal          3479.42   \n",
       "4      District Total      Federal          3479.42   \n",
       "...               ...          ...              ...   \n",
       "42167      Open Doors  State/Local            10.90   \n",
       "42168      Open Doors  State/Local            10.90   \n",
       "42169      Open Doors  State/Local            10.90   \n",
       "42170      Open Doors  State/Local            10.90   \n",
       "42171      Open Doors  State/Local            10.90   \n",
       "\n",
       "                         Activity  Expenditure  \n",
       "0                  Administration          0.0  \n",
       "1                     Instruction     241298.9  \n",
       "2           Instructional Support      73245.0  \n",
       "3            School Food Services    1021709.2  \n",
       "4      Maintenance and Operations          0.0  \n",
       "...                           ...          ...  \n",
       "42167        School Food Services          0.0  \n",
       "42168        Pupil Transportation        408.4  \n",
       "42169  Maintenance and Operations       4897.7  \n",
       "42170               Other Service        625.2  \n",
       "42171              Public Actives         11.6  \n",
       "\n",
       "[42172 rows x 9 columns]"
      ]
     },
     "execution_count": 45,
     "metadata": {},
     "output_type": "execute_result"
    }
   ],
   "source": [
    "fin2"
   ]
  },
  {
   "cell_type": "markdown",
   "metadata": {},
   "source": [
    "______________________________________________________________________________________\n",
    "See that the final column now has everything in tens of cents."
   ]
  },
  {
   "cell_type": "markdown",
   "metadata": {},
   "source": [
    "______________________________________________________________________________________\n",
    "Step 2: remove every column that's not school code and expenditures"
   ]
  },
  {
   "cell_type": "code",
   "execution_count": 46,
   "metadata": {},
   "outputs": [],
   "source": [
    "fin2=fin2[['SchoolCode', 'Expenditure']]"
   ]
  },
  {
   "cell_type": "code",
   "execution_count": 47,
   "metadata": {},
   "outputs": [
    {
     "name": "stdout",
     "output_type": "stream",
     "text": [
      "<class 'pandas.core.frame.DataFrame'>\n",
      "Int64Index: 42172 entries, 0 to 42171\n",
      "Data columns (total 2 columns):\n",
      " #   Column       Non-Null Count  Dtype  \n",
      "---  ------       --------------  -----  \n",
      " 0   SchoolCode   42172 non-null  int64  \n",
      " 1   Expenditure  42172 non-null  float64\n",
      "dtypes: float64(1), int64(1)\n",
      "memory usage: 988.4 KB\n"
     ]
    }
   ],
   "source": [
    "fin2.info()"
   ]
  },
  {
   "cell_type": "markdown",
   "metadata": {},
   "source": [
    "______________________________________________________________________________________\n",
    "Bye bye extraneous data. On to step 3:"
   ]
  },
  {
   "cell_type": "markdown",
   "metadata": {},
   "source": [
    "______________________________________________________________________________________\n",
    "Step 3: Sum expenditures by school code and put it in a new fin copy:"
   ]
  },
  {
   "cell_type": "code",
   "execution_count": 48,
   "metadata": {},
   "outputs": [],
   "source": [
    "fin3 = fin2.groupby([\"SchoolCode\"]).Expenditure.sum().reset_index()"
   ]
  },
  {
   "cell_type": "code",
   "execution_count": 50,
   "metadata": {},
   "outputs": [
    {
     "data": {
      "text/html": [
       "<div>\n",
       "<style scoped>\n",
       "    .dataframe tbody tr th:only-of-type {\n",
       "        vertical-align: middle;\n",
       "    }\n",
       "\n",
       "    .dataframe tbody tr th {\n",
       "        vertical-align: top;\n",
       "    }\n",
       "\n",
       "    .dataframe thead th {\n",
       "        text-align: right;\n",
       "    }\n",
       "</style>\n",
       "<table border=\"1\" class=\"dataframe\">\n",
       "  <thead>\n",
       "    <tr style=\"text-align: right;\">\n",
       "      <th></th>\n",
       "      <th>SchoolCode</th>\n",
       "      <th>Expenditure</th>\n",
       "    </tr>\n",
       "  </thead>\n",
       "  <tbody>\n",
       "    <tr>\n",
       "      <th>0</th>\n",
       "      <td>0</td>\n",
       "      <td>1.590417e+10</td>\n",
       "    </tr>\n",
       "    <tr>\n",
       "      <th>1</th>\n",
       "      <td>1500</td>\n",
       "      <td>2.610360e+05</td>\n",
       "    </tr>\n",
       "    <tr>\n",
       "      <th>2</th>\n",
       "      <td>1502</td>\n",
       "      <td>2.162589e+06</td>\n",
       "    </tr>\n",
       "    <tr>\n",
       "      <th>3</th>\n",
       "      <td>1506</td>\n",
       "      <td>9.329199e+05</td>\n",
       "    </tr>\n",
       "    <tr>\n",
       "      <th>4</th>\n",
       "      <td>1508</td>\n",
       "      <td>2.656577e+06</td>\n",
       "    </tr>\n",
       "    <tr>\n",
       "      <th>...</th>\n",
       "      <td>...</td>\n",
       "      <td>...</td>\n",
       "    </tr>\n",
       "    <tr>\n",
       "      <th>2375</th>\n",
       "      <td>5563</td>\n",
       "      <td>4.804910e+04</td>\n",
       "    </tr>\n",
       "    <tr>\n",
       "      <th>2376</th>\n",
       "      <td>5588</td>\n",
       "      <td>2.269740e+04</td>\n",
       "    </tr>\n",
       "    <tr>\n",
       "      <th>2377</th>\n",
       "      <td>5958</td>\n",
       "      <td>2.665958e+06</td>\n",
       "    </tr>\n",
       "    <tr>\n",
       "      <th>2378</th>\n",
       "      <td>5960</td>\n",
       "      <td>2.058463e+06</td>\n",
       "    </tr>\n",
       "    <tr>\n",
       "      <th>2379</th>\n",
       "      <td>5961</td>\n",
       "      <td>3.497937e+06</td>\n",
       "    </tr>\n",
       "  </tbody>\n",
       "</table>\n",
       "<p>2380 rows × 2 columns</p>\n",
       "</div>"
      ],
      "text/plain": [
       "      SchoolCode   Expenditure\n",
       "0              0  1.590417e+10\n",
       "1           1500  2.610360e+05\n",
       "2           1502  2.162589e+06\n",
       "3           1506  9.329199e+05\n",
       "4           1508  2.656577e+06\n",
       "...          ...           ...\n",
       "2375        5563  4.804910e+04\n",
       "2376        5588  2.269740e+04\n",
       "2377        5958  2.665958e+06\n",
       "2378        5960  2.058463e+06\n",
       "2379        5961  3.497937e+06\n",
       "\n",
       "[2380 rows x 2 columns]"
      ]
     },
     "execution_count": 50,
     "metadata": {},
     "output_type": "execute_result"
    }
   ],
   "source": [
    "fin3"
   ]
  },
  {
   "cell_type": "markdown",
   "metadata": {},
   "source": [
    "______________________________________________________________________________________\n",
    "We cut down our number of rows by a factor of 20.  Also, we now have 1 row per school, each with its own school code and total expenditure amount.  How neat! Onward to step 4:"
   ]
  },
  {
   "cell_type": "markdown",
   "metadata": {},
   "source": [
    "______________________________________________________________________________________\n",
    "Step 4: Convert to int64 formatting and get rid of these infernal scientific notations:"
   ]
  },
  {
   "cell_type": "code",
   "execution_count": 51,
   "metadata": {},
   "outputs": [],
   "source": [
    "fin3.Expenditure=fin3.Expenditure.astype('int64')"
   ]
  },
  {
   "cell_type": "code",
   "execution_count": 52,
   "metadata": {},
   "outputs": [
    {
     "data": {
      "text/html": [
       "<div>\n",
       "<style scoped>\n",
       "    .dataframe tbody tr th:only-of-type {\n",
       "        vertical-align: middle;\n",
       "    }\n",
       "\n",
       "    .dataframe tbody tr th {\n",
       "        vertical-align: top;\n",
       "    }\n",
       "\n",
       "    .dataframe thead th {\n",
       "        text-align: right;\n",
       "    }\n",
       "</style>\n",
       "<table border=\"1\" class=\"dataframe\">\n",
       "  <thead>\n",
       "    <tr style=\"text-align: right;\">\n",
       "      <th></th>\n",
       "      <th>SchoolCode</th>\n",
       "      <th>Expenditure</th>\n",
       "    </tr>\n",
       "  </thead>\n",
       "  <tbody>\n",
       "    <tr>\n",
       "      <th>0</th>\n",
       "      <td>0</td>\n",
       "      <td>15904165929</td>\n",
       "    </tr>\n",
       "    <tr>\n",
       "      <th>1</th>\n",
       "      <td>1500</td>\n",
       "      <td>261036</td>\n",
       "    </tr>\n",
       "    <tr>\n",
       "      <th>2</th>\n",
       "      <td>1502</td>\n",
       "      <td>2162588</td>\n",
       "    </tr>\n",
       "    <tr>\n",
       "      <th>3</th>\n",
       "      <td>1506</td>\n",
       "      <td>932919</td>\n",
       "    </tr>\n",
       "    <tr>\n",
       "      <th>4</th>\n",
       "      <td>1508</td>\n",
       "      <td>2656577</td>\n",
       "    </tr>\n",
       "    <tr>\n",
       "      <th>...</th>\n",
       "      <td>...</td>\n",
       "      <td>...</td>\n",
       "    </tr>\n",
       "    <tr>\n",
       "      <th>2375</th>\n",
       "      <td>5563</td>\n",
       "      <td>48049</td>\n",
       "    </tr>\n",
       "    <tr>\n",
       "      <th>2376</th>\n",
       "      <td>5588</td>\n",
       "      <td>22697</td>\n",
       "    </tr>\n",
       "    <tr>\n",
       "      <th>2377</th>\n",
       "      <td>5958</td>\n",
       "      <td>2665957</td>\n",
       "    </tr>\n",
       "    <tr>\n",
       "      <th>2378</th>\n",
       "      <td>5960</td>\n",
       "      <td>2058462</td>\n",
       "    </tr>\n",
       "    <tr>\n",
       "      <th>2379</th>\n",
       "      <td>5961</td>\n",
       "      <td>3497937</td>\n",
       "    </tr>\n",
       "  </tbody>\n",
       "</table>\n",
       "<p>2380 rows × 2 columns</p>\n",
       "</div>"
      ],
      "text/plain": [
       "      SchoolCode  Expenditure\n",
       "0              0  15904165929\n",
       "1           1500       261036\n",
       "2           1502      2162588\n",
       "3           1506       932919\n",
       "4           1508      2656577\n",
       "...          ...          ...\n",
       "2375        5563        48049\n",
       "2376        5588        22697\n",
       "2377        5958      2665957\n",
       "2378        5960      2058462\n",
       "2379        5961      3497937\n",
       "\n",
       "[2380 rows x 2 columns]"
      ]
     },
     "execution_count": 52,
     "metadata": {},
     "output_type": "execute_result"
    }
   ],
   "source": [
    "fin3"
   ]
  },
  {
   "cell_type": "markdown",
   "metadata": {},
   "source": [
    "______________________________________________________________________________________\n",
    "All done with our groupmates requests.  Now to convert to an csv file and be done with this:"
   ]
  },
  {
   "cell_type": "code",
   "execution_count": 53,
   "metadata": {},
   "outputs": [],
   "source": [
    "fin3.to_csv('Finance_Report_Card_Clean.csv')"
   ]
  }
 ],
 "metadata": {
  "kernelspec": {
   "display_name": "Python 3",
   "language": "python",
   "name": "python3"
  },
  "language_info": {
   "codemirror_mode": {
    "name": "ipython",
    "version": 3
   },
   "file_extension": ".py",
   "mimetype": "text/x-python",
   "name": "python",
   "nbconvert_exporter": "python",
   "pygments_lexer": "ipython3",
   "version": "3.8.5"
  }
 },
 "nbformat": 4,
 "nbformat_minor": 4
}
